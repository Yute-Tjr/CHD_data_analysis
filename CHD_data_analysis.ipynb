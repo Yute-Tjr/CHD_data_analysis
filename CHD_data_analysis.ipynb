{
 "cells": [
  {
   "cell_type": "markdown",
   "id": "05fc881a",
   "metadata": {},
   "source": [
    "# Purpose of the analysis\n",
    "\n",
    "This study aims to evaluate the impact of various factors on an individual's risk of developing coronary heart disease (CHD) within the next decade. To achieve this goal, it is necessary to conduct statistical analysis on individual health data related to CHD. This dataset covers multiple aspects, including personal basic information, living habits, health status, and medical test indicators. Through in - depth analysis of this data, we can identify key factors closely associated with the risk of CHD onset.\n",
    "\n",
    "The results of this study can be used to build a CHD risk prediction model. This model will assist medical institutions and healthcare providers in assessing the likelihood of an individual developing CHD in the future. Data analysis will help healthcare providers make more informed decisions when formulating preventive measures, diagnostic plans, and treatment strategies. For individuals, based on their personal risk assessment results, they can take targeted preventive actions, such as adjusting their lifestyle and enhancing health management, to reduce their risk of developing CHD.\n",
    "\n",
    "# The short plan\n",
    "\n",
    "* Import data\n",
    "* Make a brief preliminary overview of the data\n",
    "* If necessary, pre-process and clean each field.\n",
    "* Check the final data set for duplicates and omissions, and evaluate its suitability for the study.\n",
    "* Conduct a research analysis of the data and formulate conclusions\n",
    "* Based on the findings from the data analysis, formulate a set of recommendations to the medical research"
   ]
  },
  {
   "cell_type": "markdown",
   "id": "6c17e88e",
   "metadata": {},
   "source": [
    "# A brief overview of the data"
   ]
  },
  {
   "cell_type": "code",
   "execution_count": 37,
   "id": "c5709074",
   "metadata": {},
   "outputs": [
    {
     "data": {
      "text/html": [
       "<div>\n",
       "<style scoped>\n",
       "    .dataframe tbody tr th:only-of-type {\n",
       "        vertical-align: middle;\n",
       "    }\n",
       "\n",
       "    .dataframe tbody tr th {\n",
       "        vertical-align: top;\n",
       "    }\n",
       "\n",
       "    .dataframe thead th {\n",
       "        text-align: right;\n",
       "    }\n",
       "</style>\n",
       "<table border=\"1\" class=\"dataframe\">\n",
       "  <thead>\n",
       "    <tr style=\"text-align: right;\">\n",
       "      <th></th>\n",
       "      <th>male</th>\n",
       "      <th>age</th>\n",
       "      <th>education</th>\n",
       "      <th>currentSmoker</th>\n",
       "      <th>cigsPerDay</th>\n",
       "      <th>BPMeds</th>\n",
       "      <th>prevalentStroke</th>\n",
       "      <th>prevalentHyp</th>\n",
       "      <th>diabetes</th>\n",
       "      <th>totChol</th>\n",
       "      <th>sysBP</th>\n",
       "      <th>diaBP</th>\n",
       "      <th>BMI</th>\n",
       "      <th>heartRate</th>\n",
       "      <th>glucose</th>\n",
       "      <th>TenYearCHD</th>\n",
       "    </tr>\n",
       "  </thead>\n",
       "  <tbody>\n",
       "    <tr>\n",
       "      <th>0</th>\n",
       "      <td>1</td>\n",
       "      <td>39</td>\n",
       "      <td>4.0</td>\n",
       "      <td>0</td>\n",
       "      <td>0.0</td>\n",
       "      <td>0.0</td>\n",
       "      <td>0</td>\n",
       "      <td>0</td>\n",
       "      <td>0</td>\n",
       "      <td>195.0</td>\n",
       "      <td>106.0</td>\n",
       "      <td>70.0</td>\n",
       "      <td>26.97</td>\n",
       "      <td>80.0</td>\n",
       "      <td>77.0</td>\n",
       "      <td>0</td>\n",
       "    </tr>\n",
       "    <tr>\n",
       "      <th>1</th>\n",
       "      <td>0</td>\n",
       "      <td>46</td>\n",
       "      <td>2.0</td>\n",
       "      <td>0</td>\n",
       "      <td>0.0</td>\n",
       "      <td>0.0</td>\n",
       "      <td>0</td>\n",
       "      <td>0</td>\n",
       "      <td>0</td>\n",
       "      <td>250.0</td>\n",
       "      <td>121.0</td>\n",
       "      <td>81.0</td>\n",
       "      <td>28.73</td>\n",
       "      <td>95.0</td>\n",
       "      <td>76.0</td>\n",
       "      <td>0</td>\n",
       "    </tr>\n",
       "    <tr>\n",
       "      <th>2</th>\n",
       "      <td>1</td>\n",
       "      <td>48</td>\n",
       "      <td>1.0</td>\n",
       "      <td>1</td>\n",
       "      <td>20.0</td>\n",
       "      <td>0.0</td>\n",
       "      <td>0</td>\n",
       "      <td>0</td>\n",
       "      <td>0</td>\n",
       "      <td>245.0</td>\n",
       "      <td>127.5</td>\n",
       "      <td>80.0</td>\n",
       "      <td>25.34</td>\n",
       "      <td>75.0</td>\n",
       "      <td>70.0</td>\n",
       "      <td>0</td>\n",
       "    </tr>\n",
       "    <tr>\n",
       "      <th>3</th>\n",
       "      <td>0</td>\n",
       "      <td>61</td>\n",
       "      <td>3.0</td>\n",
       "      <td>1</td>\n",
       "      <td>30.0</td>\n",
       "      <td>0.0</td>\n",
       "      <td>0</td>\n",
       "      <td>1</td>\n",
       "      <td>0</td>\n",
       "      <td>225.0</td>\n",
       "      <td>150.0</td>\n",
       "      <td>95.0</td>\n",
       "      <td>28.58</td>\n",
       "      <td>65.0</td>\n",
       "      <td>103.0</td>\n",
       "      <td>1</td>\n",
       "    </tr>\n",
       "    <tr>\n",
       "      <th>4</th>\n",
       "      <td>0</td>\n",
       "      <td>46</td>\n",
       "      <td>3.0</td>\n",
       "      <td>1</td>\n",
       "      <td>23.0</td>\n",
       "      <td>0.0</td>\n",
       "      <td>0</td>\n",
       "      <td>0</td>\n",
       "      <td>0</td>\n",
       "      <td>285.0</td>\n",
       "      <td>130.0</td>\n",
       "      <td>84.0</td>\n",
       "      <td>23.10</td>\n",
       "      <td>85.0</td>\n",
       "      <td>85.0</td>\n",
       "      <td>0</td>\n",
       "    </tr>\n",
       "    <tr>\n",
       "      <th>5</th>\n",
       "      <td>0</td>\n",
       "      <td>43</td>\n",
       "      <td>2.0</td>\n",
       "      <td>0</td>\n",
       "      <td>0.0</td>\n",
       "      <td>0.0</td>\n",
       "      <td>0</td>\n",
       "      <td>1</td>\n",
       "      <td>0</td>\n",
       "      <td>228.0</td>\n",
       "      <td>180.0</td>\n",
       "      <td>110.0</td>\n",
       "      <td>30.30</td>\n",
       "      <td>77.0</td>\n",
       "      <td>99.0</td>\n",
       "      <td>0</td>\n",
       "    </tr>\n",
       "    <tr>\n",
       "      <th>6</th>\n",
       "      <td>0</td>\n",
       "      <td>63</td>\n",
       "      <td>1.0</td>\n",
       "      <td>0</td>\n",
       "      <td>0.0</td>\n",
       "      <td>0.0</td>\n",
       "      <td>0</td>\n",
       "      <td>0</td>\n",
       "      <td>0</td>\n",
       "      <td>205.0</td>\n",
       "      <td>138.0</td>\n",
       "      <td>71.0</td>\n",
       "      <td>33.11</td>\n",
       "      <td>60.0</td>\n",
       "      <td>85.0</td>\n",
       "      <td>1</td>\n",
       "    </tr>\n",
       "    <tr>\n",
       "      <th>7</th>\n",
       "      <td>0</td>\n",
       "      <td>45</td>\n",
       "      <td>2.0</td>\n",
       "      <td>1</td>\n",
       "      <td>20.0</td>\n",
       "      <td>0.0</td>\n",
       "      <td>0</td>\n",
       "      <td>0</td>\n",
       "      <td>0</td>\n",
       "      <td>313.0</td>\n",
       "      <td>100.0</td>\n",
       "      <td>71.0</td>\n",
       "      <td>21.68</td>\n",
       "      <td>79.0</td>\n",
       "      <td>78.0</td>\n",
       "      <td>0</td>\n",
       "    </tr>\n",
       "    <tr>\n",
       "      <th>8</th>\n",
       "      <td>1</td>\n",
       "      <td>52</td>\n",
       "      <td>1.0</td>\n",
       "      <td>0</td>\n",
       "      <td>0.0</td>\n",
       "      <td>0.0</td>\n",
       "      <td>0</td>\n",
       "      <td>1</td>\n",
       "      <td>0</td>\n",
       "      <td>260.0</td>\n",
       "      <td>141.5</td>\n",
       "      <td>89.0</td>\n",
       "      <td>26.36</td>\n",
       "      <td>76.0</td>\n",
       "      <td>79.0</td>\n",
       "      <td>0</td>\n",
       "    </tr>\n",
       "    <tr>\n",
       "      <th>9</th>\n",
       "      <td>1</td>\n",
       "      <td>43</td>\n",
       "      <td>1.0</td>\n",
       "      <td>1</td>\n",
       "      <td>30.0</td>\n",
       "      <td>0.0</td>\n",
       "      <td>0</td>\n",
       "      <td>1</td>\n",
       "      <td>0</td>\n",
       "      <td>225.0</td>\n",
       "      <td>162.0</td>\n",
       "      <td>107.0</td>\n",
       "      <td>23.61</td>\n",
       "      <td>93.0</td>\n",
       "      <td>88.0</td>\n",
       "      <td>0</td>\n",
       "    </tr>\n",
       "  </tbody>\n",
       "</table>\n",
       "</div>"
      ],
      "text/plain": [
       "   male  age  education  currentSmoker  cigsPerDay  BPMeds  prevalentStroke  \\\n",
       "0     1   39        4.0              0         0.0     0.0                0   \n",
       "1     0   46        2.0              0         0.0     0.0                0   \n",
       "2     1   48        1.0              1        20.0     0.0                0   \n",
       "3     0   61        3.0              1        30.0     0.0                0   \n",
       "4     0   46        3.0              1        23.0     0.0                0   \n",
       "5     0   43        2.0              0         0.0     0.0                0   \n",
       "6     0   63        1.0              0         0.0     0.0                0   \n",
       "7     0   45        2.0              1        20.0     0.0                0   \n",
       "8     1   52        1.0              0         0.0     0.0                0   \n",
       "9     1   43        1.0              1        30.0     0.0                0   \n",
       "\n",
       "   prevalentHyp  diabetes  totChol  sysBP  diaBP    BMI  heartRate  glucose  \\\n",
       "0             0         0    195.0  106.0   70.0  26.97       80.0     77.0   \n",
       "1             0         0    250.0  121.0   81.0  28.73       95.0     76.0   \n",
       "2             0         0    245.0  127.5   80.0  25.34       75.0     70.0   \n",
       "3             1         0    225.0  150.0   95.0  28.58       65.0    103.0   \n",
       "4             0         0    285.0  130.0   84.0  23.10       85.0     85.0   \n",
       "5             1         0    228.0  180.0  110.0  30.30       77.0     99.0   \n",
       "6             0         0    205.0  138.0   71.0  33.11       60.0     85.0   \n",
       "7             0         0    313.0  100.0   71.0  21.68       79.0     78.0   \n",
       "8             1         0    260.0  141.5   89.0  26.36       76.0     79.0   \n",
       "9             1         0    225.0  162.0  107.0  23.61       93.0     88.0   \n",
       "\n",
       "   TenYearCHD  \n",
       "0           0  \n",
       "1           0  \n",
       "2           0  \n",
       "3           1  \n",
       "4           0  \n",
       "5           0  \n",
       "6           1  \n",
       "7           0  \n",
       "8           0  \n",
       "9           0  "
      ]
     },
     "metadata": {},
     "output_type": "display_data"
    },
    {
     "name": "stdout",
     "output_type": "stream",
     "text": [
      "<class 'pandas.core.frame.DataFrame'>\n",
      "RangeIndex: 4238 entries, 0 to 4237\n",
      "Data columns (total 16 columns):\n",
      " #   Column           Non-Null Count  Dtype  \n",
      "---  ------           --------------  -----  \n",
      " 0   male             4238 non-null   int64  \n",
      " 1   age              4238 non-null   int64  \n",
      " 2   education        4133 non-null   float64\n",
      " 3   currentSmoker    4238 non-null   int64  \n",
      " 4   cigsPerDay       4209 non-null   float64\n",
      " 5   BPMeds           4185 non-null   float64\n",
      " 6   prevalentStroke  4238 non-null   int64  \n",
      " 7   prevalentHyp     4238 non-null   int64  \n",
      " 8   diabetes         4238 non-null   int64  \n",
      " 9   totChol          4188 non-null   float64\n",
      " 10  sysBP            4238 non-null   float64\n",
      " 11  diaBP            4238 non-null   float64\n",
      " 12  BMI              4219 non-null   float64\n",
      " 13  heartRate        4237 non-null   float64\n",
      " 14  glucose          3850 non-null   float64\n",
      " 15  TenYearCHD       4238 non-null   int64  \n",
      "dtypes: float64(9), int64(7)\n",
      "memory usage: 529.9 KB\n",
      "None\n"
     ]
    }
   ],
   "source": [
    "# Importing library modules\n",
    "import pandas as pd\n",
    "import matplotlib.pyplot as plt\n",
    "import seaborn as sns\n",
    "\n",
    "# Reading the source data from the CSV file into the Data Frame df\n",
    "df = pd.read_csv('framingham.csv')\n",
    "\n",
    "# We display the first ten lines for visual verification of the correctness of downloads.\n",
    "display(df.head(10)) #tail()\n",
    "\n",
    "# Displaying information about the Data frame\n",
    "print(df.info())"
   ]
  },
  {
   "cell_type": "markdown",
   "id": "b5f003ab",
   "metadata": {},
   "source": [
    "# Data preprocessing"
   ]
  },
  {
   "cell_type": "code",
   "execution_count": 38,
   "id": "69ea390d",
   "metadata": {},
   "outputs": [
    {
     "name": "stdout",
     "output_type": "stream",
     "text": [
      "Rows in the original set: 4238\n"
     ]
    }
   ],
   "source": [
    "# Initial amount of data\n",
    "data_len_start=df.shape[0]\n",
    "print(\"Rows in the original set:\",data_len_start)"
   ]
  },
  {
   "cell_type": "markdown",
   "id": "26c06761",
   "metadata": {},
   "source": [
    "## Education"
   ]
  },
  {
   "cell_type": "code",
   "execution_count": 39,
   "id": "9e4c8751",
   "metadata": {},
   "outputs": [
    {
     "name": "stdout",
     "output_type": "stream",
     "text": [
      "Processing 'education' column: filled 105 missing values\n"
     ]
    }
   ],
   "source": [
    "# Count the number of missing entries in the 'education' column\n",
    "missing_education = df['education'].isnull().sum()\n",
    "\n",
    "# Calculate the mode (most frequent value) of education level\n",
    "mode_education = df['education'].mode()[0]\n",
    "\n",
    "# Fill missing values with the mode and convert to category type \n",
    "df['education'] = df['education'].fillna(mode_education).astype('category')\n",
    "\n",
    "print(f\"Processing 'education' column: filled {missing_education} missing values\")"
   ]
  },
  {
   "cell_type": "markdown",
   "id": "78d86247",
   "metadata": {},
   "source": [
    "## CigsPerDay"
   ]
  },
  {
   "cell_type": "code",
   "execution_count": 40,
   "id": "229f7c38",
   "metadata": {},
   "outputs": [
    {
     "name": "stdout",
     "output_type": "stream",
     "text": [
      "Processing the 'cigsPerDay' column: a total of 29 missing values were filled in (29 among smokers, 0 among non-smokers)\n"
     ]
    }
   ],
   "source": [
    "# Distinguish smokers and non-smokers\n",
    "smoker_mask = df['currentSmoker'] == 1  # Smoker mask\n",
    "non_smoker_mask = df['currentSmoker'] == 0  # Non-smoker mask\n",
    "\n",
    "# Count the missing values separately for smokers and non-smokers\n",
    "missing_cigs_smoker = df.loc[smoker_mask, 'cigsPerDay'].isnull().sum()\n",
    "missing_cigs_non_smoker = df.loc[non_smoker_mask, 'cigsPerDay'].isnull().sum()\n",
    "total_missing_cigs = missing_cigs_smoker + missing_cigs_non_smoker\n",
    "\n",
    "# Calculate the median daily cigarette consumption for smokers (more resistant to outliers)\n",
    "median_cigs = df.loc[smoker_mask, 'cigsPerDay'].median()\n",
    "\n",
    "# Fill missing values with median for smokers, and 0 for non-smokers (reasonable assumption that non-smokers have 0 cigarette consumption)\n",
    "df.loc[smoker_mask, 'cigsPerDay'] = df.loc[smoker_mask, 'cigsPerDay'].fillna(median_cigs)\n",
    "df.loc[non_smoker_mask, 'cigsPerDay'] = df.loc[non_smoker_mask, 'cigsPerDay'].fillna(0)\n",
    "\n",
    "print(f\"Processing the 'cigsPerDay' column: a total of {total_missing_cigs} missing values were filled in ({missing_cigs_smoker} among smokers, {missing_cigs_non_smoker} among non-smokers)\")"
   ]
  },
  {
   "cell_type": "markdown",
   "id": "654f1088",
   "metadata": {},
   "source": [
    "## BPMeds\n"
   ]
  },
  {
   "cell_type": "code",
   "execution_count": 41,
   "id": "e48dd9e7",
   "metadata": {},
   "outputs": [],
   "source": [
    "# Calculate the mode of blood pressure medication usage\n",
    "mode_bpmeds = df['BPMeds'].mode()[0]\n",
    "# Fill missing values with the mode and convert to integer type\n",
    "df['BPMeds'] = df['BPMeds'].fillna(mode_bpmeds).astype('int32')"
   ]
  },
  {
   "cell_type": "markdown",
   "id": "7c3f23d9",
   "metadata": {},
   "source": [
    "##  TotChol"
   ]
  },
  {
   "cell_type": "code",
   "execution_count": 42,
   "id": "9e7874b8",
   "metadata": {},
   "outputs": [],
   "source": [
    "# Calculate the median of total cholesterol (resistant to outliers)\n",
    "median_totChol = df['totChol'].median()\n",
    "# Fill missing values with the median\n",
    "df['totChol'] = df['totChol'].fillna(median_totChol)"
   ]
  },
  {
   "cell_type": "markdown",
   "id": "bb9a9c5a",
   "metadata": {},
   "source": [
    "## BMI"
   ]
  },
  {
   "cell_type": "code",
   "execution_count": 43,
   "id": "e21eeaf8",
   "metadata": {},
   "outputs": [],
   "source": [
    "# Calculate the median of BMI\n",
    "median_BMI = df['BMI'].median()\n",
    "# Fill missing values with the median\n",
    "df['BMI'] = df['BMI'].fillna(median_BMI)"
   ]
  },
  {
   "cell_type": "markdown",
   "id": "e6f393e6",
   "metadata": {},
   "source": [
    "## HeartRate"
   ]
  },
  {
   "cell_type": "code",
   "execution_count": 44,
   "id": "c038d8c8",
   "metadata": {},
   "outputs": [],
   "source": [
    "# Calculate the median of heart rate\n",
    "median_heartRate = df['heartRate'].median()\n",
    "# Fill missing values with the median (only 1 missing value, simple to handle)\n",
    "df['heartRate'] = df['heartRate'].fillna(median_heartRate)"
   ]
  },
  {
   "cell_type": "markdown",
   "id": "99b9fded",
   "metadata": {},
   "source": [
    "## Glucose"
   ]
  },
  {
   "cell_type": "code",
   "execution_count": 45,
   "id": "3f86a4dd",
   "metadata": {},
   "outputs": [],
   "source": [
    "# Calculate the median of glucose\n",
    "median_glucose = df['glucose'].median()\n",
    "# Fill missing values with the median\n",
    "df['glucose'] = df['glucose'].fillna(median_glucose)"
   ]
  },
  {
   "cell_type": "markdown",
   "id": "9827b491",
   "metadata": {},
   "source": [
    "# Exploratory analysis and visualization"
   ]
  }
 ],
 "metadata": {
  "kernelspec": {
   "display_name": "Python 3",
   "language": "python",
   "name": "python3"
  },
  "language_info": {
   "codemirror_mode": {
    "name": "ipython",
    "version": 3
   },
   "file_extension": ".py",
   "mimetype": "text/x-python",
   "name": "python",
   "nbconvert_exporter": "python",
   "pygments_lexer": "ipython3",
   "version": "3.11.9"
  }
 },
 "nbformat": 4,
 "nbformat_minor": 5
}
